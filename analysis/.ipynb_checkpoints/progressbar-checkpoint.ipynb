{
 "cells": [
  {
   "cell_type": "code",
   "execution_count": 79,
   "id": "0c5559a8-6ec2-41b3-9565-583775bf36c7",
   "metadata": {},
   "outputs": [],
   "source": [
    "import sys\n",
    "sys.path.append('..')\n",
    "sys.path.append('../../BHS_Persistence/')\n",
    "sys.path.append('../../BHS_Core/')\n",
    "\n",
    "import matplotlib.pyplot as plt\n",
    "from matplotlib import cm \n",
    "from matplotlib import colors\n",
    "import graph"
   ]
  },
  {
   "cell_type": "code",
   "execution_count": 3,
   "id": "07aa5875-18ff-459a-b09c-747e452f95a1",
   "metadata": {},
   "outputs": [
    {
     "data": {
      "image/png": "[encoded data removed]",
      "text/plain": [
       "<Figure size 432x288 with 1 Axes>"
      ]
     },
     "metadata": {
      "needs_background": "light"
     },
     "output_type": "display_data"
    }
   ],
   "source": [
    "fig, ax = plt.subplots()\n",
    "b = ax.bar(1, 20, color=cm.get_cmap(name='BuGn')(0.99))\n",
    "ax.set(ylim=(0,100), xlim=(0.99,1.01)) \n",
    "ax.set_aspect(0.002)\n",
    "# ax.xaxis.set_ticklabels([])\n",
    "# ax.set_xticks([])\n",
    "ax.bar_label(b, padding=3)\n",
    "# set_box_aspect\n",
    "ax.set_axis_off()\n",
    "plt.show()"
   ]
  },
  {
   "cell_type": "code",
   "execution_count": 8,
   "id": "71649389-6034-410d-ac11-20657fab2864",
   "metadata": {},
   "outputs": [
    {
     "name": "stderr",
     "output_type": "stream",
     "text": [
      "/usr/lib/python3/dist-packages/ipykernel_launcher.py:8: MatplotlibDeprecationWarning: Support for passing numbers through unit converters is deprecated since 3.5 and support will be removed two minor releases later; use Axis.convert_units instead.\n",
      "  \n"
     ]
    },
    {
     "data": {
      "image/png": "[encoded data removed]",
      "text/plain": [
       "<Figure size 1224x54 with 1 Axes>"
      ]
     },
     "metadata": {},
     "output_type": "display_data"
    }
   ],
   "source": [
    "fig, ax = plt.subplots(figsize=(17,0.75))\n",
    "b = ax.barh('.', 50, color=cm.get_cmap(name='BuGn')(0.2))\n",
    "ax.set(xlim=(0,100)) \n",
    "# set_aspect(400)\n",
    "ax.bar_label(b, padding=3)\n",
    "ax.yaxis.set_ticklabels([])\n",
    "ax.xaxis.set_ticklabels([])\n",
    "ax.set_yticks([])\n",
    "ax.set_xticks([])\n",
    "# ax.set_axis_off()\n",
    "plt.show()"
   ]
  },
  {
   "cell_type": "code",
   "execution_count": 69,
   "id": "1ee13b13-f735-4324-84aa-57f2fe2ddc9a",
   "metadata": {},
   "outputs": [
    {
     "data": {
      "image/png": "[encoded data removed]",
      "text/plain": [
       "<Figure size 432x288 with 3 Axes>"
      ]
     },
     "metadata": {},
     "output_type": "display_data"
    }
   ],
   "source": [
    "fig, axs = plt.subplots(nrows=3)\n",
    "for ax in axs:\n",
    "    b = ax.barh(1, 20, color=cm.get_cmap(name='BuGn')(0.2))\n",
    "    ax.set(xlim=(0,100), ylim=(0.99,1.01)) \n",
    "    ax.set_aspect(400)\n",
    "    ax.bar_label(b, padding=3)\n",
    "    ax.yaxis.set_ticklabels([])\n",
    "    ax.xaxis.set_ticklabels([])\n",
    "    ax.set_yticks([])\n",
    "    ax.set_xticks([])\n",
    "    # ax.set_axis_off()\n",
    "# plt.tight_layout(h_pad=0, w_pad=0, pad=0)\n",
    "plt.show()"
   ]
  },
  {
   "cell_type": "code",
   "execution_count": 4,
   "id": "c20a0c14-08d5-4c9c-9d91-1a1c396e75ab",
   "metadata": {},
   "outputs": [
    {
     "data": {
      "image/png": "[encoded data removed]",
      "text/plain": [
       "<Figure size 432x288 with 1 Axes>"
      ]
     },
     "metadata": {},
     "output_type": "display_data"
    }
   ],
   "source": [
    "fig = plt.figure()\n",
    "ax = plt.Axes(fig, [0., 0., 1., 1.])\n",
    "fig.add_axes(ax)\n",
    "\n",
    "b2 = ax.barh(1, 80, left=20, color=cm.get_cmap(name='Greys')(0.1))\n",
    "b1 = ax.barh(1, 20, color=cm.get_cmap(name='BuGn')(0.2))\n",
    "ax.set(xlim=(0,100), ylim=(0.99,1.01)) \n",
    "ax.set_aspect(400)\n",
    "ax.bar_label(b1, padding=3)\n",
    "ax.yaxis.set_ticklabels([])\n",
    "ax.xaxis.set_ticklabels([])\n",
    "ax.set_yticks([])\n",
    "ax.set_xticks([])\n",
    "ax.yaxis.tick_right()\n",
    "ax.yaxis.set_label_position(\"right\")\n",
    "plt.setp(ax.get_yaxis().get_offset_text(), visible=False)\n",
    "ax.set_axis_off()\n",
    "plt.get_current_fig_manager()\n",
    "plt.show()"
   ]
  },
  {
   "cell_type": "code",
   "execution_count": 2,
   "id": "d7797c7b-7dcc-4438-913a-363fbc3fa0f9",
   "metadata": {},
   "outputs": [
    {
     "data": {
      "text/plain": [
       "b'<?xml version=\"1.0\" encoding=\"utf-8\" standalone=\"no\"?>\\n<!DOCTYPE svg PUBLIC \"-//W3C//DTD SVG 1.1//EN\"\\n  \"http://www.w3.org/Graphics/SVG/1.1/DTD/svg11.dtd\">\\n<svg xmlns:xlink=\"http://www.w3.org/1999/xlink\" width=\"673.1pt\" height=\"30.68pt\" viewBox=\"0 0 673.1 30.68\" xmlns=\"http://www.w3.org/2000/svg\" version=\"1.1\">\\n <metadata>\\n  <rdf:RDF xmlns:dc=\"http://purl.org/dc/elements/1.1/\" xmlns:cc=\"http://creativecommons.org/ns#\" xmlns:rdf=\"http://www.w3.org/1999/02/22-rdf-syntax-ns#\">\\n   <cc:Work>\\n    <dc:type rdf:resource=\"http://purl.org/dc/dcmitype/StillImage\"/>\\n    <dc:date>2022-06-18T18:59:24.372649</dc:date>\\n    <dc:format>image/svg+xml</dc:format>\\n    <dc:creator>\\n     <cc:Agent>\\n      <dc:title>Matplotlib v3.5.0, https://matplotlib.org/</dc:title>\\n     </cc:Agent>\\n    </dc:creator>\\n   </cc:Work>\\n  </rdf:RDF>\\n </metadata>\\n <defs>\\n  <style type=\"text/css\">*{stroke-linejoin: round; stroke-linecap: butt}</style>\\n </defs>\\n <g id=\"figure_1\">\\n  <g id=\"patch_1\">\\n   <path d=\"M 0 30.68 \\nL 673.1 30.68 \\nL 673.1 0 \\nL 0 0 \\nL 0 30.68 \\nz\\n\" style=\"fill: none\"/>\\n  </g>\\n  <g id=\"axes_1\">\\n   <g id=\"patch_2\">\\n    <path d=\"M 3.5 27.18 \\nL 673.1 27.18 \\nL 673.1 -0 \\nL 3.5 -0 \\nz\\n\" style=\"fill: #ffffff\"/>\\n   </g>\\n   <g id=\"patch_3\">\\n    <path d=\"M 346.3352 25.944545 \\nL 673.1 25.944545 \\nL 673.1 1.235455 \\nL 346.3352 1.235455 \\nz\\n\" clip-path=\"url(#p7668b69fd0)\" style=\"fill: #f3f3f3\"/>\\n   </g>\\n   <g id=\"patch_4\">\\n    <path d=\"M 3.5 25.944545 \\nL 346.3352 25.944545 \\nL 346.3352 1.235455 \\nL 3.5 1.235455 \\nz\\n\" clip-path=\"url(#p7668b69fd0)\" style=\"fill: #62c09f\"/>\\n   </g>\\n   <g id=\"matplotlib.axis_1\"/>\\n   <g id=\"matplotlib.axis_2\"/>\\n   <g id=\"patch_5\">\\n    <path d=\"M 3.5 27.18 \\nL 3.5 -0 \\n\" style=\"fill: none; stroke: #000000; stroke-width: 0.8; stroke-linejoin: miter; stroke-linecap: square\"/>\\n   </g>\\n   <g id=\"patch_6\">\\n    <path d=\"M 673.1 27.18 \\nL 673.1 -0 \\n\" style=\"fill: none; stroke: #000000; stroke-width: 0.8; stroke-linejoin: miter; stroke-linecap: square\"/>\\n   </g>\\n   <g id=\"patch_7\">\\n    <path d=\"M 3.5 27.18 \\nL 673.1 27.18 \\n\" style=\"fill: none; stroke: #000000; stroke-width: 0.8; stroke-linejoin: miter; stroke-linecap: square\"/>\\n   </g>\\n   <g id=\"patch_8\">\\n    <path d=\"M 3.5 -0 \\nL 673.1 -0 \\n\" style=\"fill: none; stroke: #000000; stroke-width: 0.8; stroke-linejoin: miter; stroke-linecap: square\"/>\\n   </g>\\n   <g id=\"text_1\">\\n    <!-- 51.2 -->\\n    <g transform=\"translate(349.3352 16.349375)scale(0.1 -0.1)\">\\n     <defs>\\n      <path id=\"DejaVuSans-35\" d=\"M 691 4666 \\nL 3169 4666 \\nL 3169 4134 \\nL 1269 4134 \\nL 1269 2991 \\nQ 1406 3038 1543 3061 \\nQ 1681 3084 1819 3084 \\nQ 2600 3084 3056 2656 \\nQ 3513 2228 3513 1497 \\nQ 3513 744 3044 326 \\nQ 2575 -91 1722 -91 \\nQ 1428 -91 1123 -41 \\nQ 819 9 494 109 \\nL 494 744 \\nQ 775 591 1075 516 \\nQ 1375 441 1709 441 \\nQ 2250 441 2565 725 \\nQ 2881 1009 2881 1497 \\nQ 2881 1984 2565 2268 \\nQ 2250 2553 1709 2553 \\nQ 1456 2553 1204 2497 \\nQ 953 2441 691 2322 \\nL 691 4666 \\nz\\n\" transform=\"scale(0.015625)\"/>\\n      <path id=\"DejaVuSans-31\" d=\"M 794 531 \\nL 1825 531 \\nL 1825 4091 \\nL 703 3866 \\nL 703 4441 \\nL 1819 4666 \\nL 2450 4666 \\nL 2450 531 \\nL 3481 531 \\nL 3481 0 \\nL 794 0 \\nL 794 531 \\nz\\n\" transform=\"scale(0.015625)\"/>\\n      <path id=\"DejaVuSans-2e\" d=\"M 684 794 \\nL 1344 794 \\nL 1344 0 \\nL 684 0 \\nL 684 794 \\nz\\n\" transform=\"scale(0.015625)\"/>\\n      <path id=\"DejaVuSans-32\" d=\"M 1228 531 \\nL 3431 531 \\nL 3431 0 \\nL 469 0 \\nL 469 531 \\nQ 828 903 1448 1529 \\nQ 2069 2156 2228 2338 \\nQ 2531 2678 2651 2914 \\nQ 2772 3150 2772 3378 \\nQ 2772 3750 2511 3984 \\nQ 2250 4219 1831 4219 \\nQ 1534 4219 1204 4116 \\nQ 875 4013 500 3803 \\nL 500 4441 \\nQ 881 4594 1212 4672 \\nQ 1544 4750 1819 4750 \\nQ 2544 4750 2975 4387 \\nQ 3406 4025 3406 3419 \\nQ 3406 3131 3298 2873 \\nQ 3191 2616 2906 2266 \\nQ 2828 2175 2409 1742 \\nQ 1991 1309 1228 531 \\nz\\n\" transform=\"scale(0.015625)\"/>\\n     </defs>\\n     <use xlink:href=\"#DejaVuSans-35\"/>\\n     <use xlink:href=\"#DejaVuSans-31\" x=\"63.623047\"/>\\n     <use xlink:href=\"#DejaVuSans-2e\" x=\"127.246094\"/>\\n     <use xlink:href=\"#DejaVuSans-32\" x=\"159.033203\"/>\\n    </g>\\n   </g>\\n  </g>\\n </g>\\n <defs>\\n  <clipPath id=\"p7668b69fd0\">\\n   <rect x=\"3.5\" y=\"-0\" width=\"669.6\" height=\"27.18\"/>\\n  </clipPath>\\n </defs>\\n</svg>\\n'"
      ]
     },
     "execution_count": 2,
     "metadata": {},
     "output_type": "execute_result"
    },
    {
     "data": {
      "image/png": "[encoded data removed]",
      "text/plain": [
       "<Figure size 864x36 with 1 Axes>"
      ]
     },
     "metadata": {},
     "output_type": "display_data"
    }
   ],
   "source": [
    "graph.ProgressBar(progress=51.2, do_show_border=True, size=(12,0.5)).plot_to_svg()"
   ]
  },
  {
   "cell_type": "code",
   "execution_count": 46,
   "id": "80b7ed13-9e12-4c37-8607-3679cac6caf0",
   "metadata": {},
   "outputs": [
    {
     "name": "stdout",
     "output_type": "stream",
     "text": [
      "(0.0, 0.26666666666666666, 0.10588235294117647, 1.0)\n"
     ]
    },
    {
     "name": "stderr",
     "output_type": "stream",
     "text": [
      "/usr/lib/python3/dist-packages/ipykernel_launcher.py:15: MatplotlibDeprecationWarning: Support for passing numbers through unit converters is deprecated since 3.5 and support will be removed two minor releases later; use Axis.convert_units instead.\n",
      "  from ipykernel import kernelapp as app\n"
     ]
    },
    {
     "data": {
      "image/png": "[encoded data removed]",
      "text/plain": [
       "<Figure size 864x36 with 1 Axes>"
      ]
     },
     "metadata": {},
     "output_type": "display_data"
    }
   ],
   "source": [
    "figure, axes = plt.subplots(figsize=(12,0.5), clear=True)\n",
    "progress = 99.98\n",
    "\n",
    "BACKGROUND = cm.get_cmap(name='Greys')(0.3)\n",
    "colormap = cm.get_cmap(name='Greens') # name='RdYlGn_r' --> 0 means good\n",
    "color = colormap(progress/100)\n",
    "print(color)\n",
    "\n",
    "bar_remaining = axes.barh('.', 100-progress, left=progress, color=BACKGROUND)\n",
    "bar_progress = axes.barh('.', progress, color=colormap(progress/100))\n",
    "axes.set(xlim=(0, 100))\n",
    "axes.bar_label(bar_progress, padding=3, label_type='edge' if progress < 90 else 'center', fmt='%g %%', fontsize='small', fontfamily='Lato') # fontsize='small', \n",
    "axes.yaxis.set_ticklabels([])\n",
    "axes.xaxis.set_ticklabels([])\n",
    "axes.set_yticks([])\n",
    "axes.set_xticks([])\n",
    "axes.set_axis_off()\n",
    "\n",
    "plt.show()"
   ]
  },
  {
   "cell_type": "code",
   "execution_count": 76,
   "id": "80d5890c-37e9-45f0-b03e-7c904d6dc344",
   "metadata": {},
   "outputs": [],
   "source": [
    "def progr(progress, cmapname):\n",
    "    figure, axes = plt.subplots(figsize=(12,0.5), clear=True)\n",
    "\n",
    "    BACKGROUND = cm.get_cmap(name='Greys')(0.3)\n",
    "    colormap = cm.get_cmap(name=cmapname) # name='RdYlGn_r' --> 0 means good\n",
    "    color = colormap(progress/100)\n",
    "    print(f'{str(color)} {sum(color[:3])}')\n",
    "    is_label_outside = progress < 30\n",
    "    fontcolor = 'black' if is_label_outside else 'black' if sum(color[:3]) > 1.2 else 'white' \n",
    "    align = 'edge' if is_label_outside else 'center'\n",
    "    \n",
    "    bar_remaining = axes.barh('.', 100-progress, left=progress, color=BACKGROUND)\n",
    "    bar_progress = axes.barh('.', progress, color=colormap(progress/100))\n",
    "    axes.set(xlim=(0, 100))\n",
    "    axes.bar_label(bar_progress, padding=3, label_type=align, fmt='%g %%', fontsize='medium', fontfamily='Lato', color=fontcolor) # fontsize='small', \n",
    "    axes.yaxis.set_ticklabels([])\n",
    "    axes.xaxis.set_ticklabels([])\n",
    "    axes.set_yticks([])\n",
    "    axes.set_xticks([])\n",
    "    axes.set_axis_off()\n",
    "\n",
    "    plt.show()"
   ]
  },
  {
   "cell_type": "code",
   "execution_count": 45,
   "id": "0a8c9d67-64fa-4ec5-9555-837b1a234772",
   "metadata": {},
   "outputs": [
    {
     "data": {
      "text/plain": [
       "(0.4000000000000002, 0.7411764705882354, 0.38823529411764707, 1.0)"
      ]
     },
     "execution_count": 45,
     "metadata": {},
     "output_type": "execute_result"
    }
   ],
   "source": [
    "cmap = cm.get_cmap(name='RdYlGn_r')\n",
    "cmap(0.1)"
   ]
  },
  {
   "cell_type": "code",
   "execution_count": 83,
   "id": "a3516e66-28f4-4220-8e6d-50240fe58928",
   "metadata": {},
   "outputs": [
    {
     "name": "stdout",
     "output_type": "stream",
     "text": [
      "(0.09996155324875051, 0.5923875432525952, 0.3118031526336025, 1.0) 1.0041522491349482\n"
     ]
    },
    {
     "name": "stderr",
     "output_type": "stream",
     "text": [
      "/usr/lib/python3/dist-packages/ipykernel_launcher.py:17: MatplotlibDeprecationWarning: Support for passing numbers through unit converters is deprecated since 3.5 and support will be removed two minor releases later; use Axis.convert_units instead.\n"
     ]
    },
    {
     "data": {
      "image/png": "[encoded data removed]",
      "text/plain": [
       "<Figure size 864x36 with 1 Axes>"
      ]
     },
     "metadata": {},
     "output_type": "display_data"
    },
    {
     "name": "stdout",
     "output_type": "stream",
     "text": [
      "(0.4000000000000002, 0.7411764705882354, 0.38823529411764707, 1.0) 1.5294117647058827\n"
     ]
    },
    {
     "name": "stderr",
     "output_type": "stream",
     "text": [
      "/usr/lib/python3/dist-packages/ipykernel_launcher.py:17: MatplotlibDeprecationWarning: Support for passing numbers through unit converters is deprecated since 3.5 and support will be removed two minor releases later; use Axis.convert_units instead.\n"
     ]
    },
    {
     "data": {
      "image/png": "[encoded data removed]",
      "text/plain": [
       "<Figure size 864x36 with 1 Axes>"
      ]
     },
     "metadata": {},
     "output_type": "display_data"
    },
    {
     "name": "stdout",
     "output_type": "stream",
     "text": [
      "(0.6460592079969244, 0.8488273740868897, 0.41514801999231066, 1.0) 1.910034602076125\n"
     ]
    },
    {
     "name": "stderr",
     "output_type": "stream",
     "text": [
      "/usr/lib/python3/dist-packages/ipykernel_launcher.py:17: MatplotlibDeprecationWarning: Support for passing numbers through unit converters is deprecated since 3.5 and support will be removed two minor releases later; use Axis.convert_units instead.\n"
     ]
    },
    {
     "data": {
      "image/png": "[encoded data removed]",
      "text/plain": [
       "<Figure size 864x36 with 1 Axes>"
      ]
     },
     "metadata": {},
     "output_type": "display_data"
    },
    {
     "name": "stdout",
     "output_type": "stream",
     "text": [
      "(0.8509803921568628, 0.9372549019607844, 0.5450980392156864, 1.0) 2.333333333333334\n"
     ]
    },
    {
     "name": "stderr",
     "output_type": "stream",
     "text": [
      "/usr/lib/python3/dist-packages/ipykernel_launcher.py:17: MatplotlibDeprecationWarning: Support for passing numbers through unit converters is deprecated since 3.5 and support will be removed two minor releases later; use Axis.convert_units instead.\n"
     ]
    },
    {
     "data": {
      "image/png": "[encoded data removed]",
      "text/plain": [
       "<Figure size 864x36 with 1 Axes>"
      ]
     },
     "metadata": {},
     "output_type": "display_data"
    },
    {
     "name": "stdout",
     "output_type": "stream",
     "text": [
      "(0.9999231064975009, 0.9976163014225298, 0.7450211457131872, 1.0) 2.742560553633218\n"
     ]
    },
    {
     "name": "stderr",
     "output_type": "stream",
     "text": [
      "/usr/lib/python3/dist-packages/ipykernel_launcher.py:17: MatplotlibDeprecationWarning: Support for passing numbers through unit converters is deprecated since 3.5 and support will be removed two minor releases later; use Axis.convert_units instead.\n"
     ]
    },
    {
     "data": {
      "image/png": "[encoded data removed]",
      "text/plain": [
       "<Figure size 864x36 with 1 Axes>"
      ]
     },
     "metadata": {},
     "output_type": "display_data"
    },
    {
     "name": "stdout",
     "output_type": "stream",
     "text": [
      "(0.996078431372549, 0.8784313725490196, 0.5450980392156862, 1.0) 2.4196078431372547\n"
     ]
    },
    {
     "name": "stderr",
     "output_type": "stream",
     "text": [
      "/usr/lib/python3/dist-packages/ipykernel_launcher.py:17: MatplotlibDeprecationWarning: Support for passing numbers through unit converters is deprecated since 3.5 and support will be removed two minor releases later; use Axis.convert_units instead.\n"
     ]
    },
    {
     "data": {
      "image/png": "[encoded data removed]",
      "text/plain": [
       "<Figure size 864x36 with 1 Axes>"
      ]
     },
     "metadata": {},
     "output_type": "display_data"
    },
    {
     "name": "stdout",
     "output_type": "stream",
     "text": [
      "(0.9914648212226067, 0.6773548635140331, 0.3780853517877739, 1.0) 2.046905036524414\n"
     ]
    },
    {
     "name": "stderr",
     "output_type": "stream",
     "text": [
      "/usr/lib/python3/dist-packages/ipykernel_launcher.py:17: MatplotlibDeprecationWarning: Support for passing numbers through unit converters is deprecated since 3.5 and support will be removed two minor releases later; use Axis.convert_units instead.\n"
     ]
    },
    {
     "data": {
      "image/png": "[encoded data removed]",
      "text/plain": [
       "<Figure size 864x36 with 1 Axes>"
      ]
     },
     "metadata": {},
     "output_type": "display_data"
    },
    {
     "name": "stdout",
     "output_type": "stream",
     "text": [
      "(0.9568627450980393, 0.42745098039215684, 0.2627450980392157, 1.0) 1.6470588235294117\n"
     ]
    },
    {
     "name": "stderr",
     "output_type": "stream",
     "text": [
      "/usr/lib/python3/dist-packages/ipykernel_launcher.py:17: MatplotlibDeprecationWarning: Support for passing numbers through unit converters is deprecated since 3.5 and support will be removed two minor releases later; use Axis.convert_units instead.\n"
     ]
    },
    {
     "data": {
      "image/png": "[encoded data removed]",
      "text/plain": [
       "<Figure size 864x36 with 1 Axes>"
      ]
     },
     "metadata": {},
     "output_type": "display_data"
    },
    {
     "name": "stdout",
     "output_type": "stream",
     "text": [
      "(0.8392925797770089, 0.1845444059976932, 0.1528642829680892, 1.0) 1.1767012687427914\n"
     ]
    },
    {
     "name": "stderr",
     "output_type": "stream",
     "text": [
      "/usr/lib/python3/dist-packages/ipykernel_launcher.py:17: MatplotlibDeprecationWarning: Support for passing numbers through unit converters is deprecated since 3.5 and support will be removed two minor releases later; use Axis.convert_units instead.\n"
     ]
    },
    {
     "data": {
      "image/png": "[encoded data removed]",
      "text/plain": [
       "<Figure size 864x36 with 1 Axes>"
      ]
     },
     "metadata": {},
     "output_type": "display_data"
    },
    {
     "name": "stdout",
     "output_type": "stream",
     "text": [
      "(0.6470588235294118, 0.0, 0.14901960784313725, 1.0) 0.7960784313725491\n"
     ]
    },
    {
     "name": "stderr",
     "output_type": "stream",
     "text": [
      "/usr/lib/python3/dist-packages/ipykernel_launcher.py:17: MatplotlibDeprecationWarning: Support for passing numbers through unit converters is deprecated since 3.5 and support will be removed two minor releases later; use Axis.convert_units instead.\n"
     ]
    },
    {
     "data": {
      "image/png": "[encoded data removed]",
      "text/plain": [
       "<Figure size 864x36 with 1 Axes>"
      ]
     },
     "metadata": {},
     "output_type": "display_data"
    },
    {
     "name": "stdout",
     "output_type": "stream",
     "text": [
      "(0.6470588235294118, 0.0, 0.14901960784313725, 1.0) 0.7960784313725491\n"
     ]
    },
    {
     "name": "stderr",
     "output_type": "stream",
     "text": [
      "/usr/lib/python3/dist-packages/ipykernel_launcher.py:17: MatplotlibDeprecationWarning: Support for passing numbers through unit converters is deprecated since 3.5 and support will be removed two minor releases later; use Axis.convert_units instead.\n"
     ]
    },
    {
     "data": {
      "image/png": "[encoded data removed]",
      "text/plain": [
       "<Figure size 864x36 with 1 Axes>"
      ]
     },
     "metadata": {},
     "output_type": "display_data"
    },
    {
     "name": "stdout",
     "output_type": "stream",
     "text": [
      "(0.6470588235294118, 0.0, 0.14901960784313725, 1.0) 0.7960784313725491\n"
     ]
    },
    {
     "name": "stderr",
     "output_type": "stream",
     "text": [
      "/usr/lib/python3/dist-packages/ipykernel_launcher.py:17: MatplotlibDeprecationWarning: Support for passing numbers through unit converters is deprecated since 3.5 and support will be removed two minor releases later; use Axis.convert_units instead.\n"
     ]
    },
    {
     "data": {
      "image/png": "[encoded data removed]",
      "text/plain": [
       "<Figure size 864x36 with 1 Axes>"
      ]
     },
     "metadata": {},
     "output_type": "display_data"
    }
   ],
   "source": [
    "for _i in range(1, 13):\n",
    "    progr(_i*10, 'RdYlGn_r')"
   ]
  },
  {
   "cell_type": "code",
   "execution_count": 57,
   "id": "7b15d1ae-6b28-4791-b814-3f127c9d318a",
   "metadata": {},
   "outputs": [
    {
     "data": {
      "text/plain": [
       "0.26666666666666666"
      ]
     },
     "execution_count": 57,
     "metadata": {},
     "output_type": "execute_result"
    }
   ],
   "source": [
    "color[1]"
   ]
  },
  {
   "cell_type": "code",
   "execution_count": 82,
   "id": "20ac9591-406f-47fe-a6d5-881b0e2e8e05",
   "metadata": {},
   "outputs": [
    {
     "data": {
      "text/plain": [
       "(1.0, 0.0, 0.0, 1.0)"
      ]
     },
     "execution_count": 82,
     "metadata": {},
     "output_type": "execute_result"
    }
   ],
   "source": [
    "\n"
   ]
  },
  {
   "cell_type": "code",
   "execution_count": null,
   "id": "4a181d72-6766-4141-a349-1c388a76a62b",
   "metadata": {},
   "outputs": [],
   "source": []
  }
 ],
 "metadata": {
  "kernelspec": {
   "display_name": "Python 3",
   "language": "python",
   "name": "python3"
  },
  "language_info": {
   "codemirror_mode": {
    "name": "ipython",
    "version": 3
   },
   "file_extension": ".py",
   "mimetype": "text/x-python",
   "name": "python",
   "nbconvert_exporter": "python",
   "pygments_lexer": "ipython3",
   "version": "3.7.3"
  }
 },
 "nbformat": 4,
 "nbformat_minor": 5
}
